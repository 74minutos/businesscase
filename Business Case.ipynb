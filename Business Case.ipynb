{
 "cells": [
  {
   "cell_type": "code",
   "execution_count": 1,
   "metadata": {},
   "outputs": [],
   "source": [
    "import numpy as np\n",
    "import pandas as pd\n",
    "import seaborn as sb\n",
    "import matplotlib.pyplot as plt\n",
    "%matplotlib inline\n",
    "from mpl_toolkits.mplot3d import Axes3D\n",
    "from matplotlib import cm\n",
    "plt.style.use('ggplot')\n",
    "from sklearn import linear_model\n",
    "from sklearn.metrics import mean_squared_error, r2_score"
   ]
  },
  {
   "cell_type": "code",
   "execution_count": 2,
   "metadata": {},
   "outputs": [],
   "source": [
    "business = pd.read_csv('Untitled Folder/bsn.csv')"
   ]
  },
  {
   "cell_type": "code",
   "execution_count": 3,
   "metadata": {},
   "outputs": [
    {
     "data": {
      "text/html": [
       "<div>\n",
       "<style scoped>\n",
       "    .dataframe tbody tr th:only-of-type {\n",
       "        vertical-align: middle;\n",
       "    }\n",
       "\n",
       "    .dataframe tbody tr th {\n",
       "        vertical-align: top;\n",
       "    }\n",
       "\n",
       "    .dataframe thead th {\n",
       "        text-align: right;\n",
       "    }\n",
       "</style>\n",
       "<table border=\"1\" class=\"dataframe\">\n",
       "  <thead>\n",
       "    <tr style=\"text-align: right;\">\n",
       "      <th></th>\n",
       "      <th>date</th>\n",
       "      <th>visitas</th>\n",
       "      <th>contactos</th>\n",
       "      <th>mqls</th>\n",
       "      <th>sqls</th>\n",
       "      <th>deals</th>\n",
       "      <th>eur_medios</th>\n",
       "      <th>eur_servicios</th>\n",
       "      <th>eur_plataforma</th>\n",
       "      <th>eur_real</th>\n",
       "    </tr>\n",
       "  </thead>\n",
       "  <tbody>\n",
       "    <tr>\n",
       "      <th>0</th>\n",
       "      <td>2016-04-01</td>\n",
       "      <td>1098</td>\n",
       "      <td>6</td>\n",
       "      <td>5</td>\n",
       "      <td>0</td>\n",
       "      <td>0</td>\n",
       "      <td>0.00</td>\n",
       "      <td>0</td>\n",
       "      <td>0</td>\n",
       "      <td>0.00</td>\n",
       "    </tr>\n",
       "    <tr>\n",
       "      <th>1</th>\n",
       "      <td>2016-05-01</td>\n",
       "      <td>1072</td>\n",
       "      <td>88</td>\n",
       "      <td>68</td>\n",
       "      <td>2</td>\n",
       "      <td>0</td>\n",
       "      <td>205.43</td>\n",
       "      <td>11900</td>\n",
       "      <td>3140</td>\n",
       "      <td>15245.43</td>\n",
       "    </tr>\n",
       "    <tr>\n",
       "      <th>2</th>\n",
       "      <td>2016-06-01</td>\n",
       "      <td>1290</td>\n",
       "      <td>77</td>\n",
       "      <td>49</td>\n",
       "      <td>5</td>\n",
       "      <td>3</td>\n",
       "      <td>1079.81</td>\n",
       "      <td>5700</td>\n",
       "      <td>740</td>\n",
       "      <td>7519.81</td>\n",
       "    </tr>\n",
       "    <tr>\n",
       "      <th>3</th>\n",
       "      <td>2016-07-01</td>\n",
       "      <td>1392</td>\n",
       "      <td>95</td>\n",
       "      <td>54</td>\n",
       "      <td>8</td>\n",
       "      <td>4</td>\n",
       "      <td>975.68</td>\n",
       "      <td>2900</td>\n",
       "      <td>740</td>\n",
       "      <td>4615.68</td>\n",
       "    </tr>\n",
       "    <tr>\n",
       "      <th>4</th>\n",
       "      <td>2016-08-01</td>\n",
       "      <td>1873</td>\n",
       "      <td>129</td>\n",
       "      <td>73</td>\n",
       "      <td>12</td>\n",
       "      <td>5</td>\n",
       "      <td>1215.18</td>\n",
       "      <td>2900</td>\n",
       "      <td>740</td>\n",
       "      <td>4855.18</td>\n",
       "    </tr>\n",
       "  </tbody>\n",
       "</table>\n",
       "</div>"
      ],
      "text/plain": [
       "        date  visitas  contactos  mqls  sqls  deals  eur_medios  \\\n",
       "0 2016-04-01     1098          6     5     0      0        0.00   \n",
       "1 2016-05-01     1072         88    68     2      0      205.43   \n",
       "2 2016-06-01     1290         77    49     5      3     1079.81   \n",
       "3 2016-07-01     1392         95    54     8      4      975.68   \n",
       "4 2016-08-01     1873        129    73    12      5     1215.18   \n",
       "\n",
       "   eur_servicios  eur_plataforma  eur_real  \n",
       "0              0               0      0.00  \n",
       "1          11900            3140  15245.43  \n",
       "2           5700             740   7519.81  \n",
       "3           2900             740   4615.68  \n",
       "4           2900             740   4855.18  "
      ]
     },
     "execution_count": 3,
     "metadata": {},
     "output_type": "execute_result"
    }
   ],
   "source": [
    "business.head()\n",
    "business['date'] = pd.to_datetime(business['date'])\n",
    "business.head()"
   ]
  },
  {
   "cell_type": "code",
   "execution_count": 4,
   "metadata": {},
   "outputs": [
    {
     "data": {
      "image/png": "[encoded data removed]",
      "text/plain": [
       "<Figure size 432x288 with 1 Axes>"
      ]
     },
     "metadata": {
      "needs_background": "light"
     },
     "output_type": "display_data"
    }
   ],
   "source": [
    "business.plot('date',['contactos','mqls', 'sqls', 'deals'], legend=True)\n",
    "plt.show()"
   ]
  },
  {
   "cell_type": "code",
   "execution_count": 5,
   "metadata": {},
   "outputs": [],
   "source": [
    "#Aquí vemos por simple detección visual que hay un change point (https://en.wikipedia.org/wiki/Change_detection)\n",
    "#alrededor de julio de 2018. Hasta este punto vemos una correlacción entre contactos-mqls-sqls-deals, pero a partir de este\n",
    "#punto comienzan a diverger: contactos y mqls siguen la tendencia alcista mientras que sqls y deals se desploman.\n",
    "#Habría que averiguar qué ha ocurrido en esta compañía para que ocurra este cambio tan determinante.\n"
   ]
  },
  {
   "cell_type": "code",
   "execution_count": 35,
   "metadata": {},
   "outputs": [
    {
     "data": {
      "image/png": "[encoded data removed]",
      "text/plain": [
       "<Figure size 432x288 with 1 Axes>"
      ]
     },
     "metadata": {
      "needs_background": "light"
     },
     "output_type": "display_data"
    }
   ],
   "source": [
    "x_visitas = np.array(business['visitas']).reshape(-1, 1)\n",
    "y_deals = np.array(business ['deals']).reshape(-1, 1)\n",
    "\n",
    "plt.scatter(x_visitas, y_deals)\n",
    "plt.show()"
   ]
  },
  {
   "cell_type": "code",
   "execution_count": 7,
   "metadata": {},
   "outputs": [],
   "source": [
    "#Si intentáramos determinar un modelo en de visitas-deals nos sería imposible ya que la correlación está totalmente corrupta."
   ]
  },
  {
   "cell_type": "code",
   "execution_count": 17,
   "metadata": {},
   "outputs": [],
   "source": [
    "regr = linear_model.LinearRegression()"
   ]
  },
  {
   "cell_type": "code",
   "execution_count": 21,
   "metadata": {},
   "outputs": [
    {
     "data": {
      "text/plain": [
       "LinearRegression(copy_X=True, fit_intercept=True, n_jobs=None,\n",
       "         normalize=False)"
      ]
     },
     "execution_count": 21,
     "metadata": {},
     "output_type": "execute_result"
    }
   ],
   "source": [
    "regr.fit(x_visitas, y_deals)"
   ]
  },
  {
   "cell_type": "code",
   "execution_count": 37,
   "metadata": {},
   "outputs": [
    {
     "data": {
      "text/plain": [
       "array([4.35530183, 4.35538842, 4.35466234, 4.35432262, 4.35272058,\n",
       "       4.35527185, 4.3536465 , 4.35353992, 4.354679  , 4.354679  ,\n",
       "       4.354679  , 4.354679  , 4.354679  , 4.34361128, 4.34537652,\n",
       "       4.34283524, 4.3426454 , 4.34047049, 4.33519476, 4.33022211,\n",
       "       4.3351015 , 4.33244698, 4.32652843, 4.31372213, 4.30727068,\n",
       "       4.29834456, 4.30596507, 4.30519236, 4.3053822 , 4.30985192,\n",
       "       4.2791834 , 4.29132358, 4.30108235])"
      ]
     },
     "execution_count": 37,
     "metadata": {},
     "output_type": "execute_result"
    }
   ],
   "source": [
    "y_pred = regr.predict(x_visitas)\n",
    "y_pred"
   ]
  },
  {
   "cell_type": "code",
   "execution_count": 24,
   "metadata": {},
   "outputs": [
    {
     "name": "stdout",
     "output_type": "stream",
     "text": [
      "Coefficients: \n",
      " [-3.3306393e-06]\n",
      "Independent term: \n",
      " 4.358958868357695\n",
      "Mean squared error: 9.31\n",
      "Variance score: 0.00\n"
     ]
    }
   ],
   "source": [
    "print('Coefficients: \\n', regr.coef_)\n",
    "print('Independent term: \\n', regr.intercept_)\n",
    "print(\"Mean squared error: %.2f\" % mean_squared_error(y_deals, y_pred))\n",
    "print('Variance score: %.2f' % r2_score(y_deals, y_pred))"
   ]
  },
  {
   "cell_type": "code",
   "execution_count": 32,
   "metadata": {},
   "outputs": [
    {
     "name": "stdout",
     "output_type": "stream",
     "text": [
      "-328\n"
     ]
    }
   ],
   "source": [
    "#si aplicamos este modelo e intentamos ver cuantos deals tendríamos por número de visitas, vemos que pasa lo siguiente:\n",
    "\n",
    "pred = regr.predict([[100000000]])\n",
    "print(int(pred))"
   ]
  },
  {
   "cell_type": "code",
   "execution_count": null,
   "metadata": {},
   "outputs": [],
   "source": []
  }
 ],
 "metadata": {
  "kernelspec": {
   "display_name": "Python 3",
   "language": "python",
   "name": "python3"
  },
  "language_info": {
   "codemirror_mode": {
    "name": "ipython",
    "version": 3
   },
   "file_extension": ".py",
   "mimetype": "text/x-python",
   "name": "python",
   "nbconvert_exporter": "python",
   "pygments_lexer": "ipython3",
   "version": "3.7.1"
  }
 },
 "nbformat": 4,
 "nbformat_minor": 2
}
